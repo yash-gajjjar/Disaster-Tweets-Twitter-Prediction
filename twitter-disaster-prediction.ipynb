{
 "cells": [
  {
   "cell_type": "code",
   "execution_count": 1,
   "id": "0168ed98",
   "metadata": {
    "_cell_guid": "b1076dfc-b9ad-4769-8c92-a6c4dae69d19",
    "_uuid": "8f2839f25d086af736a60e9eeb907d3b93b6e0e5",
    "execution": {
     "iopub.execute_input": "2024-08-03T16:53:00.685295Z",
     "iopub.status.busy": "2024-08-03T16:53:00.684912Z",
     "iopub.status.idle": "2024-08-03T16:53:19.314643Z",
     "shell.execute_reply": "2024-08-03T16:53:19.313443Z"
    },
    "papermill": {
     "duration": 18.639422,
     "end_time": "2024-08-03T16:53:19.317314",
     "exception": false,
     "start_time": "2024-08-03T16:53:00.677892",
     "status": "completed"
    },
    "tags": []
   },
   "outputs": [
    {
     "name": "stderr",
     "output_type": "stream",
     "text": [
      "2024-08-03 16:53:05.067132: E external/local_xla/xla/stream_executor/cuda/cuda_dnn.cc:9261] Unable to register cuDNN factory: Attempting to register factory for plugin cuDNN when one has already been registered\n",
      "2024-08-03 16:53:05.067292: E external/local_xla/xla/stream_executor/cuda/cuda_fft.cc:607] Unable to register cuFFT factory: Attempting to register factory for plugin cuFFT when one has already been registered\n",
      "2024-08-03 16:53:05.219759: E external/local_xla/xla/stream_executor/cuda/cuda_blas.cc:1515] Unable to register cuBLAS factory: Attempting to register factory for plugin cuBLAS when one has already been registered\n"
     ]
    }
   ],
   "source": [
    "import numpy as np # linear algebra\n",
    "import pandas as pd # data processing, CSV file I/O (e.g. pd.read_csv)\n",
    "from sklearn import feature_extraction, linear_model, model_selection, preprocessing\n",
    "import tensorflow as tf\n",
    "#import keras_core as keras\n",
    "import keras_nlp\n",
    "from sklearn.metrics import ConfusionMatrixDisplay, confusion_matrix\n",
    "import seaborn as sns\n",
    "import matplotlib.pyplot as plt\n",
    "\n",
    "import os\n",
    "os.environ[\"KERAS_BACKEND\"] = \"tensorflow\" \n",
    "\n",
    "import keras\n",
    "import keras_nlp\n",
    "\n",
    "import tensorflow as tf\n",
    "\n",
    "import json\n",
    "import numpy as np\n",
    "import pandas as pd\n",
    "from sklearn.model_selection import train_test_split\n",
    "\n",
    "import plotly.graph_objs as go\n",
    "import plotly.express as px"
   ]
  },
  {
   "cell_type": "code",
   "execution_count": 2,
   "id": "7e735e9c",
   "metadata": {
    "execution": {
     "iopub.execute_input": "2024-08-03T16:53:19.330000Z",
     "iopub.status.busy": "2024-08-03T16:53:19.329264Z",
     "iopub.status.idle": "2024-08-03T16:53:19.335382Z",
     "shell.execute_reply": "2024-08-03T16:53:19.334338Z"
    },
    "papermill": {
     "duration": 0.014975,
     "end_time": "2024-08-03T16:53:19.337641",
     "exception": false,
     "start_time": "2024-08-03T16:53:19.322666",
     "status": "completed"
    },
    "tags": []
   },
   "outputs": [
    {
     "name": "stdout",
     "output_type": "stream",
     "text": [
      "TensorFlow version: 2.15.0\n",
      "KerasNLP version: 0.14.0\n"
     ]
    }
   ],
   "source": [
    "print(\"TensorFlow version:\", tf.__version__)\n",
    "print(\"KerasNLP version:\", keras_nlp.__version__)"
   ]
  },
  {
   "cell_type": "code",
   "execution_count": 3,
   "id": "ed2f5dcc",
   "metadata": {
    "execution": {
     "iopub.execute_input": "2024-08-03T16:53:19.349833Z",
     "iopub.status.busy": "2024-08-03T16:53:19.349432Z",
     "iopub.status.idle": "2024-08-03T16:53:19.354737Z",
     "shell.execute_reply": "2024-08-03T16:53:19.353676Z"
    },
    "papermill": {
     "duration": 0.013952,
     "end_time": "2024-08-03T16:53:19.356951",
     "exception": false,
     "start_time": "2024-08-03T16:53:19.342999",
     "status": "completed"
    },
    "tags": []
   },
   "outputs": [],
   "source": [
    "model_type=\"distil_bert_base_en_uncased\""
   ]
  },
  {
   "cell_type": "code",
   "execution_count": 4,
   "id": "1cb2f1fb",
   "metadata": {
    "execution": {
     "iopub.execute_input": "2024-08-03T16:53:19.369530Z",
     "iopub.status.busy": "2024-08-03T16:53:19.368626Z",
     "iopub.status.idle": "2024-08-03T16:53:19.435387Z",
     "shell.execute_reply": "2024-08-03T16:53:19.434155Z"
    },
    "papermill": {
     "duration": 0.075874,
     "end_time": "2024-08-03T16:53:19.438061",
     "exception": false,
     "start_time": "2024-08-03T16:53:19.362187",
     "status": "completed"
    },
    "tags": []
   },
   "outputs": [
    {
     "data": {
      "text/html": [
       "<div>\n",
       "<style scoped>\n",
       "    .dataframe tbody tr th:only-of-type {\n",
       "        vertical-align: middle;\n",
       "    }\n",
       "\n",
       "    .dataframe tbody tr th {\n",
       "        vertical-align: top;\n",
       "    }\n",
       "\n",
       "    .dataframe thead th {\n",
       "        text-align: right;\n",
       "    }\n",
       "</style>\n",
       "<table border=\"1\" class=\"dataframe\">\n",
       "  <thead>\n",
       "    <tr style=\"text-align: right;\">\n",
       "      <th></th>\n",
       "      <th>id</th>\n",
       "      <th>keyword</th>\n",
       "      <th>location</th>\n",
       "      <th>text</th>\n",
       "      <th>target</th>\n",
       "    </tr>\n",
       "  </thead>\n",
       "  <tbody>\n",
       "    <tr>\n",
       "      <th>0</th>\n",
       "      <td>1</td>\n",
       "      <td>NaN</td>\n",
       "      <td>NaN</td>\n",
       "      <td>Our Deeds are the Reason of this #earthquake M...</td>\n",
       "      <td>1</td>\n",
       "    </tr>\n",
       "    <tr>\n",
       "      <th>1</th>\n",
       "      <td>4</td>\n",
       "      <td>NaN</td>\n",
       "      <td>NaN</td>\n",
       "      <td>Forest fire near La Ronge Sask. Canada</td>\n",
       "      <td>1</td>\n",
       "    </tr>\n",
       "    <tr>\n",
       "      <th>2</th>\n",
       "      <td>5</td>\n",
       "      <td>NaN</td>\n",
       "      <td>NaN</td>\n",
       "      <td>All residents asked to 'shelter in place' are ...</td>\n",
       "      <td>1</td>\n",
       "    </tr>\n",
       "    <tr>\n",
       "      <th>3</th>\n",
       "      <td>6</td>\n",
       "      <td>NaN</td>\n",
       "      <td>NaN</td>\n",
       "      <td>13,000 people receive #wildfires evacuation or...</td>\n",
       "      <td>1</td>\n",
       "    </tr>\n",
       "    <tr>\n",
       "      <th>4</th>\n",
       "      <td>7</td>\n",
       "      <td>NaN</td>\n",
       "      <td>NaN</td>\n",
       "      <td>Just got sent this photo from Ruby #Alaska as ...</td>\n",
       "      <td>1</td>\n",
       "    </tr>\n",
       "  </tbody>\n",
       "</table>\n",
       "</div>"
      ],
      "text/plain": [
       "   id keyword location                                               text  \\\n",
       "0   1     NaN      NaN  Our Deeds are the Reason of this #earthquake M...   \n",
       "1   4     NaN      NaN             Forest fire near La Ronge Sask. Canada   \n",
       "2   5     NaN      NaN  All residents asked to 'shelter in place' are ...   \n",
       "3   6     NaN      NaN  13,000 people receive #wildfires evacuation or...   \n",
       "4   7     NaN      NaN  Just got sent this photo from Ruby #Alaska as ...   \n",
       "\n",
       "   target  \n",
       "0       1  \n",
       "1       1  \n",
       "2       1  \n",
       "3       1  \n",
       "4       1  "
      ]
     },
     "execution_count": 4,
     "metadata": {},
     "output_type": "execute_result"
    }
   ],
   "source": [
    "# reading train data\n",
    "train_data_path = \"/kaggle/input/nlp-getting-started/train.csv\"\n",
    "\n",
    "# Load data from CSV file into a DataFrame\n",
    "train_data = pd.read_csv(train_data_path)\n",
    "\n",
    "train_data.head()"
   ]
  },
  {
   "cell_type": "code",
   "execution_count": 5,
   "id": "4068caa6",
   "metadata": {
    "execution": {
     "iopub.execute_input": "2024-08-03T16:53:19.451151Z",
     "iopub.status.busy": "2024-08-03T16:53:19.450746Z",
     "iopub.status.idle": "2024-08-03T16:53:19.504379Z",
     "shell.execute_reply": "2024-08-03T16:53:19.503268Z"
    },
    "papermill": {
     "duration": 0.063063,
     "end_time": "2024-08-03T16:53:19.507011",
     "exception": false,
     "start_time": "2024-08-03T16:53:19.443948",
     "status": "completed"
    },
    "tags": []
   },
   "outputs": [],
   "source": [
    "# Split data into training and test sets (80% train, 20% test)\n",
    "train_data, test_data = train_test_split(train_data, test_size=0.1, random_state=42)\n",
    "\n",
    "# Define a function to parse the DataFrame\n",
    "def parse_dataframe(df):\n",
    "    # Return features (text review) and labels (sentiment label)\n",
    "    return df[\"text\"].values, df[\"target\"].values\n",
    "\n",
    "# Convert training and test data to TensorFlow datasets\n",
    "train_dataset = tf.data.Dataset.from_tensor_slices(parse_dataframe(train_data)).batch(32)\n",
    "test_dataset = tf.data.Dataset.from_tensor_slices(parse_dataframe(test_data)).batch(32)"
   ]
  },
  {
   "cell_type": "code",
   "execution_count": 6,
   "id": "c71a32b1",
   "metadata": {
    "execution": {
     "iopub.execute_input": "2024-08-03T16:53:19.519684Z",
     "iopub.status.busy": "2024-08-03T16:53:19.519269Z",
     "iopub.status.idle": "2024-08-03T16:53:32.486299Z",
     "shell.execute_reply": "2024-08-03T16:53:32.484239Z"
    },
    "papermill": {
     "duration": 12.976514,
     "end_time": "2024-08-03T16:53:32.489033",
     "exception": false,
     "start_time": "2024-08-03T16:53:19.512519",
     "status": "completed"
    },
    "tags": []
   },
   "outputs": [
    {
     "name": "stdout",
     "output_type": "stream",
     "text": [
      "Attaching 'model.safetensors' from model 'keras/distil_bert/keras/distil_bert_base_en_uncased/2' to your Kaggle notebook...\n",
      "Attaching 'model.safetensors.index.json' from model 'keras/distil_bert/keras/distil_bert_base_en_uncased/2' to your Kaggle notebook...\n",
      "Attaching 'metadata.json' from model 'keras/distil_bert/keras/distil_bert_base_en_uncased/2' to your Kaggle notebook...\n",
      "Attaching 'metadata.json' from model 'keras/distil_bert/keras/distil_bert_base_en_uncased/2' to your Kaggle notebook...\n",
      "Attaching 'tokenizer.json' from model 'keras/distil_bert/keras/distil_bert_base_en_uncased/2' to your Kaggle notebook...\n",
      "Attaching 'tokenizer.json' from model 'keras/distil_bert/keras/distil_bert_base_en_uncased/2' to your Kaggle notebook...\n",
      "Attaching 'assets/tokenizer/vocabulary.txt' from model 'keras/distil_bert/keras/distil_bert_base_en_uncased/2' to your Kaggle notebook...\n",
      "Attaching 'model.safetensors' from model 'keras/distil_bert/keras/distil_bert_base_en_uncased/2' to your Kaggle notebook...\n",
      "Attaching 'model.safetensors.index.json' from model 'keras/distil_bert/keras/distil_bert_base_en_uncased/2' to your Kaggle notebook...\n",
      "Attaching 'metadata.json' from model 'keras/distil_bert/keras/distil_bert_base_en_uncased/2' to your Kaggle notebook...\n",
      "Attaching 'metadata.json' from model 'keras/distil_bert/keras/distil_bert_base_en_uncased/2' to your Kaggle notebook...\n",
      "Attaching 'config.json' from model 'keras/distil_bert/keras/distil_bert_base_en_uncased/2' to your Kaggle notebook...\n",
      "Attaching 'config.json' from model 'keras/distil_bert/keras/distil_bert_base_en_uncased/2' to your Kaggle notebook...\n",
      "Attaching 'model.weights.h5' from model 'keras/distil_bert/keras/distil_bert_base_en_uncased/2' to your Kaggle notebook...\n"
     ]
    }
   ],
   "source": [
    "tokenizer = keras_nlp.models.DistilBertTokenizer.from_preset(model_type)\n",
    "backbone = keras_nlp.models.DistilBertBackbone.from_preset(model_type)"
   ]
  },
  {
   "cell_type": "code",
   "execution_count": 7,
   "id": "c1adb774",
   "metadata": {
    "execution": {
     "iopub.execute_input": "2024-08-03T16:53:32.504517Z",
     "iopub.status.busy": "2024-08-03T16:53:32.503752Z",
     "iopub.status.idle": "2024-08-03T16:53:34.531146Z",
     "shell.execute_reply": "2024-08-03T16:53:34.529929Z"
    },
    "papermill": {
     "duration": 2.037816,
     "end_time": "2024-08-03T16:53:34.533930",
     "exception": false,
     "start_time": "2024-08-03T16:53:32.496114",
     "status": "completed"
    },
    "tags": []
   },
   "outputs": [],
   "source": [
    "packer = keras_nlp.layers.MultiSegmentPacker(\n",
    "    start_value=tokenizer.cls_token_id,\n",
    "    end_value=tokenizer.sep_token_id,\n",
    "    pad_value=tokenizer.pad_token_id,\n",
    "    sequence_length=500\n",
    ")\n",
    "\n",
    "def preprocess(x, y):\n",
    "    token_ids, _ = packer(tokenizer(x))\n",
    "    x = {\n",
    "        \"token_ids\": token_ids,\n",
    "        \"padding_mask\": token_ids != tokenizer.pad_token_id,\n",
    "    }\n",
    "    return x, y\n",
    "\n",
    "train_ds = train_dataset.map(preprocess, num_parallel_calls=tf.data.AUTOTUNE)\n",
    "val_ds = test_dataset.map(preprocess, num_parallel_calls=tf.data.AUTOTUNE)"
   ]
  },
  {
   "cell_type": "code",
   "execution_count": 8,
   "id": "acf12fe2",
   "metadata": {
    "execution": {
     "iopub.execute_input": "2024-08-03T16:53:34.549012Z",
     "iopub.status.busy": "2024-08-03T16:53:34.548611Z",
     "iopub.status.idle": "2024-08-03T16:53:34.555150Z",
     "shell.execute_reply": "2024-08-03T16:53:34.554045Z"
    },
    "papermill": {
     "duration": 0.016819,
     "end_time": "2024-08-03T16:53:34.557556",
     "exception": false,
     "start_time": "2024-08-03T16:53:34.540737",
     "status": "completed"
    },
    "tags": []
   },
   "outputs": [],
   "source": [
    "from tensorflow.keras import callbacks\n",
    "\n",
    "early_stopping = callbacks.EarlyStopping(\n",
    "    min_delta=0.001, # minimium amount of change to count as an improvement\n",
    "    patience=3, # how many epochs to wait before stopping\n",
    "    restore_best_weights=True,\n",
    ")"
   ]
  },
  {
   "cell_type": "code",
   "execution_count": 9,
   "id": "36740828",
   "metadata": {
    "execution": {
     "iopub.execute_input": "2024-08-03T16:53:34.571968Z",
     "iopub.status.busy": "2024-08-03T16:53:34.571546Z",
     "iopub.status.idle": "2024-08-03T23:13:16.394891Z",
     "shell.execute_reply": "2024-08-03T23:13:16.391746Z"
    },
    "papermill": {
     "duration": 22781.861686,
     "end_time": "2024-08-03T23:13:16.425659",
     "exception": false,
     "start_time": "2024-08-03T16:53:34.563973",
     "status": "completed"
    },
    "tags": []
   },
   "outputs": [
    {
     "name": "stdout",
     "output_type": "stream",
     "text": [
      "Epoch 1/2\n"
     ]
    },
    {
     "name": "stderr",
     "output_type": "stream",
     "text": [
      "WARNING: All log messages before absl::InitializeLog() is called are written to STDERR\n",
      "I0000 00:00:1722704059.330596      58 device_compiler.h:186] Compiled cluster using XLA!  This line is logged at most once for the lifetime of the process.\n",
      "2024-08-03 16:54:19.353554: E external/local_xla/xla/stream_executor/stream_executor_internal.h:177] SetPriority unimplemented for this stream.\n"
     ]
    },
    {
     "name": "stdout",
     "output_type": "stream",
     "text": [
      "\u001b[1m215/215\u001b[0m \u001b[32m━━━━━━━━━━━━━━━━━━━━\u001b[0m\u001b[37m\u001b[0m \u001b[1m11449s\u001b[0m 53s/step - accuracy: 0.7501 - loss: 0.5268 - val_accuracy: 0.8360 - val_loss: 0.3966\n",
      "Epoch 2/2\n",
      "\u001b[1m215/215\u001b[0m \u001b[32m━━━━━━━━━━━━━━━━━━━━\u001b[0m\u001b[37m\u001b[0m \u001b[1m11333s\u001b[0m 53s/step - accuracy: 0.8506 - loss: 0.3726 - val_accuracy: 0.8360 - val_loss: 0.3920\n"
     ]
    }
   ],
   "source": [
    "inputs = backbone.input\n",
    "outputs = backbone(inputs)[:, 0, :]\n",
    "#outputs = keras.layers.Dense(2028,activation='relu')(outputs)\n",
    "outputs = keras.layers.Dense(1024,activation='relu')(outputs)\n",
    "outputs = keras.layers.Dense(512,activation='relu')(outputs)\n",
    "outputs = keras.layers.Dense(256, activation='relu')(outputs)\n",
    "outputs = keras.layers.Dense(128,activation='relu')(outputs)\n",
    "\n",
    "outputs = keras.layers.Dropout(0.1)(outputs)\n",
    "\n",
    "outputs = keras.layers.Dense(2)(outputs)\n",
    "    \n",
    "model = keras.Model(inputs, outputs)\n",
    "model.compile(\n",
    "    loss=keras.losses.SparseCategoricalCrossentropy(from_logits=True),\n",
    "    optimizer=keras.optimizers.Adam(1e-5),\n",
    "     metrics= [\"accuracy\"],\n",
    "    jit_compile=True,\n",
    "    \n",
    ")\n",
    "\n",
    "history=model.fit(train_ds, validation_data=val_ds,epochs=2)"
   ]
  },
  {
   "cell_type": "code",
   "execution_count": 10,
   "id": "7b6f1528",
   "metadata": {
    "execution": {
     "iopub.execute_input": "2024-08-03T23:13:16.646456Z",
     "iopub.status.busy": "2024-08-03T23:13:16.645963Z",
     "iopub.status.idle": "2024-08-03T23:13:17.072676Z",
     "shell.execute_reply": "2024-08-03T23:13:17.071513Z"
    },
    "papermill": {
     "duration": 0.469978,
     "end_time": "2024-08-03T23:13:17.075088",
     "exception": false,
     "start_time": "2024-08-03T23:13:16.605110",
     "status": "completed"
    },
    "tags": []
   },
   "outputs": [
    {
     "name": "stdout",
     "output_type": "stream",
     "text": [
      "Minimum validation loss: 0.39198264479637146\n"
     ]
    },
    {
     "data": {
      "image/png": "[encoded data removed]",
      "text/plain": [
       "<Figure size 640x480 with 1 Axes>"
      ]
     },
     "metadata": {},
     "output_type": "display_data"
    }
   ],
   "source": [
    "history_df = pd.DataFrame(history.history)\n",
    "history_df.loc[:, ['loss', 'val_loss']].plot();\n",
    "print(\"Minimum validation loss: {}\".format(history_df['val_loss'].min()))"
   ]
  },
  {
   "cell_type": "code",
   "execution_count": 11,
   "id": "11bc8568",
   "metadata": {
    "execution": {
     "iopub.execute_input": "2024-08-03T23:13:17.153523Z",
     "iopub.status.busy": "2024-08-03T23:13:17.153033Z",
     "iopub.status.idle": "2024-08-03T23:13:17.200995Z",
     "shell.execute_reply": "2024-08-03T23:13:17.199674Z"
    },
    "papermill": {
     "duration": 0.090207,
     "end_time": "2024-08-03T23:13:17.203719",
     "exception": false,
     "start_time": "2024-08-03T23:13:17.113512",
     "status": "completed"
    },
    "tags": []
   },
   "outputs": [
    {
     "data": {
      "text/html": [
       "<div>\n",
       "<style scoped>\n",
       "    .dataframe tbody tr th:only-of-type {\n",
       "        vertical-align: middle;\n",
       "    }\n",
       "\n",
       "    .dataframe tbody tr th {\n",
       "        vertical-align: top;\n",
       "    }\n",
       "\n",
       "    .dataframe thead th {\n",
       "        text-align: right;\n",
       "    }\n",
       "</style>\n",
       "<table border=\"1\" class=\"dataframe\">\n",
       "  <thead>\n",
       "    <tr style=\"text-align: right;\">\n",
       "      <th></th>\n",
       "      <th>id</th>\n",
       "      <th>keyword</th>\n",
       "      <th>location</th>\n",
       "      <th>text</th>\n",
       "    </tr>\n",
       "  </thead>\n",
       "  <tbody>\n",
       "    <tr>\n",
       "      <th>0</th>\n",
       "      <td>0</td>\n",
       "      <td>NaN</td>\n",
       "      <td>NaN</td>\n",
       "      <td>Just happened a terrible car crash</td>\n",
       "    </tr>\n",
       "    <tr>\n",
       "      <th>1</th>\n",
       "      <td>2</td>\n",
       "      <td>NaN</td>\n",
       "      <td>NaN</td>\n",
       "      <td>Heard about #earthquake is different cities, s...</td>\n",
       "    </tr>\n",
       "    <tr>\n",
       "      <th>2</th>\n",
       "      <td>3</td>\n",
       "      <td>NaN</td>\n",
       "      <td>NaN</td>\n",
       "      <td>there is a forest fire at spot pond, geese are...</td>\n",
       "    </tr>\n",
       "    <tr>\n",
       "      <th>3</th>\n",
       "      <td>9</td>\n",
       "      <td>NaN</td>\n",
       "      <td>NaN</td>\n",
       "      <td>Apocalypse lighting. #Spokane #wildfires</td>\n",
       "    </tr>\n",
       "    <tr>\n",
       "      <th>4</th>\n",
       "      <td>11</td>\n",
       "      <td>NaN</td>\n",
       "      <td>NaN</td>\n",
       "      <td>Typhoon Soudelor kills 28 in China and Taiwan</td>\n",
       "    </tr>\n",
       "  </tbody>\n",
       "</table>\n",
       "</div>"
      ],
      "text/plain": [
       "   id keyword location                                               text\n",
       "0   0     NaN      NaN                 Just happened a terrible car crash\n",
       "1   2     NaN      NaN  Heard about #earthquake is different cities, s...\n",
       "2   3     NaN      NaN  there is a forest fire at spot pond, geese are...\n",
       "3   9     NaN      NaN           Apocalypse lighting. #Spokane #wildfires\n",
       "4  11     NaN      NaN      Typhoon Soudelor kills 28 in China and Taiwan"
      ]
     },
     "execution_count": 11,
     "metadata": {},
     "output_type": "execute_result"
    }
   ],
   "source": [
    "# reading train data\n",
    "test_data_path = \"/kaggle/input/nlp-getting-started/test.csv\"\n",
    "\n",
    "# Load data from CSV file into a DataFrame\n",
    "test_data = pd.read_csv(test_data_path)\n",
    "\n",
    "test_data.head()"
   ]
  },
  {
   "cell_type": "code",
   "execution_count": 12,
   "id": "41ec3da6",
   "metadata": {
    "execution": {
     "iopub.execute_input": "2024-08-03T23:13:17.287139Z",
     "iopub.status.busy": "2024-08-03T23:13:17.286616Z",
     "iopub.status.idle": "2024-08-03T23:13:18.241400Z",
     "shell.execute_reply": "2024-08-03T23:13:18.240198Z"
    },
    "papermill": {
     "duration": 1.002647,
     "end_time": "2024-08-03T23:13:18.244072",
     "exception": false,
     "start_time": "2024-08-03T23:13:17.241425",
     "status": "completed"
    },
    "tags": []
   },
   "outputs": [],
   "source": [
    "# Define a function to parse the DataFrame\n",
    "def parse_dataframe(df):\n",
    "    # Return only features (text review)\n",
    "    return df[\"text\"].values\n",
    "\n",
    "# Convert test data to TensorFlow dataset\n",
    "test_dataset = tf.data.Dataset.from_tensor_slices(parse_dataframe(test_data)).batch(28)\n",
    "\n",
    "# Define the preprocess function\n",
    "def preprocess(x):\n",
    "    token_ids, _ = packer(tokenizer(x))\n",
    "    x = {\n",
    "        \"token_ids\": token_ids,\n",
    "        \"padding_mask\": token_ids != tokenizer.pad_token_id,\n",
    "    }\n",
    "    return x\n",
    "\n",
    "# Map the preprocess function to the test dataset\n",
    "test_ds = test_dataset.map(preprocess, num_parallel_calls=tf.data.AUTOTUNE)"
   ]
  },
  {
   "cell_type": "code",
   "execution_count": 13,
   "id": "7144b390",
   "metadata": {
    "execution": {
     "iopub.execute_input": "2024-08-03T23:13:18.319842Z",
     "iopub.status.busy": "2024-08-03T23:13:18.318974Z",
     "iopub.status.idle": "2024-08-03T23:13:18.323669Z",
     "shell.execute_reply": "2024-08-03T23:13:18.322557Z"
    },
    "papermill": {
     "duration": 0.045141,
     "end_time": "2024-08-03T23:13:18.326044",
     "exception": false,
     "start_time": "2024-08-03T23:13:18.280903",
     "status": "completed"
    },
    "tags": []
   },
   "outputs": [],
   "source": [
    "#test_ds = tf.data.Dataset.from_tensor_slices((test_data[\"text\"]).values).batch(28)\n",
    "#test_ids = tf.data.Dataset.from_tensor_slices((test_data[\"id\"]).values).batch(28)"
   ]
  },
  {
   "cell_type": "code",
   "execution_count": 14,
   "id": "cda14e51",
   "metadata": {
    "execution": {
     "iopub.execute_input": "2024-08-03T23:13:18.401009Z",
     "iopub.status.busy": "2024-08-03T23:13:18.400595Z",
     "iopub.status.idle": "2024-08-03T23:13:18.418666Z",
     "shell.execute_reply": "2024-08-03T23:13:18.417346Z"
    },
    "papermill": {
     "duration": 0.058252,
     "end_time": "2024-08-03T23:13:18.421052",
     "exception": false,
     "start_time": "2024-08-03T23:13:18.362800",
     "status": "completed"
    },
    "tags": []
   },
   "outputs": [
    {
     "data": {
      "text/html": [
       "<div>\n",
       "<style scoped>\n",
       "    .dataframe tbody tr th:only-of-type {\n",
       "        vertical-align: middle;\n",
       "    }\n",
       "\n",
       "    .dataframe tbody tr th {\n",
       "        vertical-align: top;\n",
       "    }\n",
       "\n",
       "    .dataframe thead th {\n",
       "        text-align: right;\n",
       "    }\n",
       "</style>\n",
       "<table border=\"1\" class=\"dataframe\">\n",
       "  <thead>\n",
       "    <tr style=\"text-align: right;\">\n",
       "      <th></th>\n",
       "      <th>id</th>\n",
       "      <th>target</th>\n",
       "    </tr>\n",
       "  </thead>\n",
       "  <tbody>\n",
       "    <tr>\n",
       "      <th>0</th>\n",
       "      <td>0</td>\n",
       "      <td>0</td>\n",
       "    </tr>\n",
       "    <tr>\n",
       "      <th>1</th>\n",
       "      <td>2</td>\n",
       "      <td>0</td>\n",
       "    </tr>\n",
       "    <tr>\n",
       "      <th>2</th>\n",
       "      <td>3</td>\n",
       "      <td>0</td>\n",
       "    </tr>\n",
       "    <tr>\n",
       "      <th>3</th>\n",
       "      <td>9</td>\n",
       "      <td>0</td>\n",
       "    </tr>\n",
       "    <tr>\n",
       "      <th>4</th>\n",
       "      <td>11</td>\n",
       "      <td>0</td>\n",
       "    </tr>\n",
       "  </tbody>\n",
       "</table>\n",
       "</div>"
      ],
      "text/plain": [
       "   id  target\n",
       "0   0       0\n",
       "1   2       0\n",
       "2   3       0\n",
       "3   9       0\n",
       "4  11       0"
      ]
     },
     "execution_count": 14,
     "metadata": {},
     "output_type": "execute_result"
    }
   ],
   "source": [
    "sample_submission = pd.read_csv(\"/kaggle/input/nlp-getting-started/sample_submission.csv\")\n",
    "sample_submission.head()"
   ]
  },
  {
   "cell_type": "code",
   "execution_count": 15,
   "id": "a284ab8d",
   "metadata": {
    "execution": {
     "iopub.execute_input": "2024-08-03T23:13:18.497896Z",
     "iopub.status.busy": "2024-08-03T23:13:18.497459Z",
     "iopub.status.idle": "2024-08-03T23:36:42.163417Z",
     "shell.execute_reply": "2024-08-03T23:36:42.161994Z"
    },
    "papermill": {
     "duration": 1403.707193,
     "end_time": "2024-08-03T23:36:42.166434",
     "exception": false,
     "start_time": "2024-08-03T23:13:18.459241",
     "status": "completed"
    },
    "tags": []
   },
   "outputs": [
    {
     "name": "stdout",
     "output_type": "stream",
     "text": [
      "\u001b[1m117/117\u001b[0m \u001b[32m━━━━━━━━━━━━━━━━━━━━\u001b[0m\u001b[37m\u001b[0m \u001b[1m1404s\u001b[0m 12s/step\n"
     ]
    }
   ],
   "source": [
    "#predictions = model.predict(test_ds)\n",
    "sample_submission[\"target\"] = np.argmax( model.predict(test_ds), axis=1)"
   ]
  },
  {
   "cell_type": "code",
   "execution_count": 16,
   "id": "3934bd12",
   "metadata": {
    "execution": {
     "iopub.execute_input": "2024-08-03T23:36:42.258368Z",
     "iopub.status.busy": "2024-08-03T23:36:42.257965Z",
     "iopub.status.idle": "2024-08-03T23:36:42.270022Z",
     "shell.execute_reply": "2024-08-03T23:36:42.268777Z"
    },
    "papermill": {
     "duration": 0.060673,
     "end_time": "2024-08-03T23:36:42.272471",
     "exception": false,
     "start_time": "2024-08-03T23:36:42.211798",
     "status": "completed"
    },
    "tags": []
   },
   "outputs": [
    {
     "data": {
      "text/html": [
       "<div>\n",
       "<style scoped>\n",
       "    .dataframe tbody tr th:only-of-type {\n",
       "        vertical-align: middle;\n",
       "    }\n",
       "\n",
       "    .dataframe tbody tr th {\n",
       "        vertical-align: top;\n",
       "    }\n",
       "\n",
       "    .dataframe thead th {\n",
       "        text-align: right;\n",
       "    }\n",
       "</style>\n",
       "<table border=\"1\" class=\"dataframe\">\n",
       "  <thead>\n",
       "    <tr style=\"text-align: right;\">\n",
       "      <th></th>\n",
       "      <th>id</th>\n",
       "      <th>target</th>\n",
       "    </tr>\n",
       "  </thead>\n",
       "  <tbody>\n",
       "    <tr>\n",
       "      <th>0</th>\n",
       "      <td>0</td>\n",
       "      <td>1</td>\n",
       "    </tr>\n",
       "    <tr>\n",
       "      <th>1</th>\n",
       "      <td>2</td>\n",
       "      <td>1</td>\n",
       "    </tr>\n",
       "    <tr>\n",
       "      <th>2</th>\n",
       "      <td>3</td>\n",
       "      <td>1</td>\n",
       "    </tr>\n",
       "    <tr>\n",
       "      <th>3</th>\n",
       "      <td>9</td>\n",
       "      <td>1</td>\n",
       "    </tr>\n",
       "    <tr>\n",
       "      <th>4</th>\n",
       "      <td>11</td>\n",
       "      <td>1</td>\n",
       "    </tr>\n",
       "  </tbody>\n",
       "</table>\n",
       "</div>"
      ],
      "text/plain": [
       "   id  target\n",
       "0   0       1\n",
       "1   2       1\n",
       "2   3       1\n",
       "3   9       1\n",
       "4  11       1"
      ]
     },
     "execution_count": 16,
     "metadata": {},
     "output_type": "execute_result"
    }
   ],
   "source": [
    "sample_submission.head()"
   ]
  },
  {
   "cell_type": "code",
   "execution_count": 17,
   "id": "87c4f655",
   "metadata": {
    "execution": {
     "iopub.execute_input": "2024-08-03T23:36:42.364529Z",
     "iopub.status.busy": "2024-08-03T23:36:42.363563Z",
     "iopub.status.idle": "2024-08-03T23:36:42.386108Z",
     "shell.execute_reply": "2024-08-03T23:36:42.384885Z"
    },
    "papermill": {
     "duration": 0.070602,
     "end_time": "2024-08-03T23:36:42.388509",
     "exception": false,
     "start_time": "2024-08-03T23:36:42.317907",
     "status": "completed"
    },
    "tags": []
   },
   "outputs": [
    {
     "data": {
      "text/html": [
       "<div>\n",
       "<style scoped>\n",
       "    .dataframe tbody tr th:only-of-type {\n",
       "        vertical-align: middle;\n",
       "    }\n",
       "\n",
       "    .dataframe tbody tr th {\n",
       "        vertical-align: top;\n",
       "    }\n",
       "\n",
       "    .dataframe thead th {\n",
       "        text-align: right;\n",
       "    }\n",
       "</style>\n",
       "<table border=\"1\" class=\"dataframe\">\n",
       "  <thead>\n",
       "    <tr style=\"text-align: right;\">\n",
       "      <th></th>\n",
       "      <th>id</th>\n",
       "      <th>target</th>\n",
       "    </tr>\n",
       "  </thead>\n",
       "  <tbody>\n",
       "    <tr>\n",
       "      <th>count</th>\n",
       "      <td>3263.000000</td>\n",
       "      <td>3263.000000</td>\n",
       "    </tr>\n",
       "    <tr>\n",
       "      <th>mean</th>\n",
       "      <td>5427.152927</td>\n",
       "      <td>0.373583</td>\n",
       "    </tr>\n",
       "    <tr>\n",
       "      <th>std</th>\n",
       "      <td>3146.427221</td>\n",
       "      <td>0.483829</td>\n",
       "    </tr>\n",
       "    <tr>\n",
       "      <th>min</th>\n",
       "      <td>0.000000</td>\n",
       "      <td>0.000000</td>\n",
       "    </tr>\n",
       "    <tr>\n",
       "      <th>25%</th>\n",
       "      <td>2683.000000</td>\n",
       "      <td>0.000000</td>\n",
       "    </tr>\n",
       "    <tr>\n",
       "      <th>50%</th>\n",
       "      <td>5500.000000</td>\n",
       "      <td>0.000000</td>\n",
       "    </tr>\n",
       "    <tr>\n",
       "      <th>75%</th>\n",
       "      <td>8176.000000</td>\n",
       "      <td>1.000000</td>\n",
       "    </tr>\n",
       "    <tr>\n",
       "      <th>max</th>\n",
       "      <td>10875.000000</td>\n",
       "      <td>1.000000</td>\n",
       "    </tr>\n",
       "  </tbody>\n",
       "</table>\n",
       "</div>"
      ],
      "text/plain": [
       "                 id       target\n",
       "count   3263.000000  3263.000000\n",
       "mean    5427.152927     0.373583\n",
       "std     3146.427221     0.483829\n",
       "min        0.000000     0.000000\n",
       "25%     2683.000000     0.000000\n",
       "50%     5500.000000     0.000000\n",
       "75%     8176.000000     1.000000\n",
       "max    10875.000000     1.000000"
      ]
     },
     "execution_count": 17,
     "metadata": {},
     "output_type": "execute_result"
    }
   ],
   "source": [
    "sample_submission.describe()"
   ]
  },
  {
   "cell_type": "code",
   "execution_count": 18,
   "id": "ab8edc93",
   "metadata": {
    "execution": {
     "iopub.execute_input": "2024-08-03T23:36:42.479795Z",
     "iopub.status.busy": "2024-08-03T23:36:42.479366Z",
     "iopub.status.idle": "2024-08-03T23:36:42.493129Z",
     "shell.execute_reply": "2024-08-03T23:36:42.492070Z"
    },
    "papermill": {
     "duration": 0.062368,
     "end_time": "2024-08-03T23:36:42.495765",
     "exception": false,
     "start_time": "2024-08-03T23:36:42.433397",
     "status": "completed"
    },
    "tags": []
   },
   "outputs": [],
   "source": [
    "sample_submission.to_csv(\"submission.csv\", index=False)"
   ]
  },
  {
   "cell_type": "code",
   "execution_count": null,
   "id": "96b039c3",
   "metadata": {
    "papermill": {
     "duration": 0.044806,
     "end_time": "2024-08-03T23:36:42.585869",
     "exception": false,
     "start_time": "2024-08-03T23:36:42.541063",
     "status": "completed"
    },
    "tags": []
   },
   "outputs": [],
   "source": []
  }
 ],
 "metadata": {
  "kaggle": {
   "accelerator": "none",
   "dataSources": [
    {
     "databundleVersionId": 869809,
     "sourceId": 17777,
     "sourceType": "competition"
    },
    {
     "modelId": 2821,
     "modelInstanceId": 4689,
     "sourceId": 6068,
     "sourceType": "modelInstanceVersion"
    }
   ],
   "dockerImageVersionId": 30746,
   "isGpuEnabled": false,
   "isInternetEnabled": true,
   "language": "python",
   "sourceType": "notebook"
  },
  "kernelspec": {
   "display_name": "Python 3",
   "language": "python",
   "name": "python3"
  },
  "language_info": {
   "codemirror_mode": {
    "name": "ipython",
    "version": 3
   },
   "file_extension": ".py",
   "mimetype": "text/x-python",
   "name": "python",
   "nbconvert_exporter": "python",
   "pygments_lexer": "ipython3",
   "version": "3.10.13"
  },
  "papermill": {
   "default_parameters": {},
   "duration": 24227.866327,
   "end_time": "2024-08-03T23:36:45.718555",
   "environment_variables": {},
   "exception": null,
   "input_path": "__notebook__.ipynb",
   "output_path": "__notebook__.ipynb",
   "parameters": {},
   "start_time": "2024-08-03T16:52:57.852228",
   "version": "2.5.0"
  }
 },
 "nbformat": 4,
 "nbformat_minor": 5
}
